{
 "cells": [
  {
   "cell_type": "markdown",
   "metadata": {},
   "source": [
    "# File Input\n",
    "\n",
    "To submit this assignment in D2l, post the link to your notebook file on your GitHub account."
   ]
  },
  {
   "cell_type": "markdown",
   "metadata": {},
   "source": [
    "## 7.1 Pig Dice Rules\n",
    "Create a program that reads a list of rules from a file and displays them.\n",
    "\n",
    "### Console:\n",
    "```powershell\n",
    "Pig Dice Rules:\n",
    "*\tSee how many turns it takes you to get to 20.\n",
    "*\tTurn ends when player rolls a 1 or chooses to hold.\n",
    "*\tIf you roll a 1, you lose all points earned during the turn.\n",
    "*\tIf you hold, you save all points earned during the turn.\n",
    "```\n",
    "\n",
    "### Specifications:\n",
    "- Use the attached text file named `pig_dice_rules.txt` in the corresponding Directory.\n",
    "- Your program should read the text file and display it on the console.\n"
   ]
  },
  {
   "cell_type": "code",
   "execution_count": 1,
   "metadata": {},
   "outputs": [
    {
     "name": "stdout",
     "output_type": "stream",
     "text": [
      "Pig Dice Rules:\n",
      "* See how many turns it takes you to get to 20.\n",
      "* Turn ends when player rolls a 1 or chooses to hold.\n",
      "* If you roll a 1, you lose all points earned during the turn.\n",
      "* If you hold, you save all points earned during the turn.\n"
     ]
    }
   ],
   "source": [
    "### CODE HERE ###\n",
    "\n",
    "f = open(\"pig_dice_rules.txt\", \"r\")\n",
    "rules = f.read()\n",
    "\n",
    "print(rules)"
   ]
  },
  {
   "cell_type": "markdown",
   "metadata": {},
   "source": [
    "## 7.2 Wizard Inventory\n",
    "Create a program that keeps track of the items that a wizard can carry.\n",
    "\n",
    "### Console:\n",
    "```powershell\n",
    "The Wizard Inventroy Program\n",
    "\n",
    "COMMAND MENU\n",
    "walk - Walk down the path \n",
    "show - Show all items \n",
    "drop - Drop an item\n",
    "exit - Exit program\n",
    "\n",
    "Command: walk\n",
    "While walking down a path, you see a scroll of uncursing. \n",
    "Do you want to grab it? (y/n): y\n",
    "You picked up a scroll of uncursing.\n",
    "\n",
    "Command: walk\n",
    "While walking down a path, you see an unknown potion. \n",
    "Do you want to grab it? (y/n): y\n",
    "You can't carry any more items. Drop something first.\n",
    "\n",
    "Command: show\n",
    "1.\ta wooden staff\n",
    "2.\ta scroll of invisibility\n",
    "3.\ta crossbow\n",
    "4.\ta scroll of uncursing\n",
    "\n",
    "Command: drop Number: 3\n",
    "You dropped a crossbow.\n",
    "\n",
    "Command: exit \n",
    "Bye!\n",
    "```\n",
    "\n",
    "### Specifications:\n",
    "- Use the attached text file named `wizard_all_items.txt` that contains a list of all the items that a wizard can carry. (in the corresponding directory)\n",
    "- When the user selects the walk command, the program should read the items from the file, randomly pick one, and give the user the option to grab it.\n",
    "- Your program should create another file that stores the items that the wizard is carrying (`wizard_inventory.txt`). Make sure to update this file every time the user grabs or drops an item.\n",
    "- The wizard can only carry **four** items at a time.\n",
    "- For the drop command, display an error message if the user enters an invalid number for the item.\n",
    "\n"
   ]
  },
  {
   "cell_type": "code",
   "execution_count": 1,
   "metadata": {},
   "outputs": [
    {
     "name": "stdout",
     "output_type": "stream",
     "text": [
      "The Wizard Inventory Program\n",
      "\n",
      "Command MENU\n",
      "walk - Walk down the path\n",
      "show - Show all items\n",
      "drop - Drop an item\n",
      "exit - Exit the program\n"
     ]
    },
    {
     "name": "stdin",
     "output_type": "stream",
     "text": [
      "\n",
      "Command:  walk\n"
     ]
    },
    {
     "name": "stdout",
     "output_type": "stream",
     "text": [
      "While walking down a path, you see some elven bread.\n"
     ]
    },
    {
     "name": "stdin",
     "output_type": "stream",
     "text": [
      "Do you want to grab it? (y/n):  y\n"
     ]
    },
    {
     "name": "stdout",
     "output_type": "stream",
     "text": [
      "You picked up some elven bread.\n"
     ]
    },
    {
     "name": "stdin",
     "output_type": "stream",
     "text": [
      "\n",
      "Command:  walk\n"
     ]
    },
    {
     "name": "stdout",
     "output_type": "stream",
     "text": [
      "You can't carry any more items. Drop something first.\n"
     ]
    },
    {
     "name": "stdin",
     "output_type": "stream",
     "text": [
      "\n",
      "Command:  drop\n"
     ]
    },
    {
     "name": "stdout",
     "output_type": "stream",
     "text": [
      "1.\ta wooden staff\n",
      "2.\ta wooden staff\n",
      "3.\ta wooden staff\n",
      "4.\tsome elven bread\n"
     ]
    },
    {
     "name": "stdin",
     "output_type": "stream",
     "text": [
      "Number:  3\n"
     ]
    },
    {
     "name": "stdout",
     "output_type": "stream",
     "text": [
      "You dropped a wooden staff.\n"
     ]
    },
    {
     "name": "stdin",
     "output_type": "stream",
     "text": [
      "\n",
      "Command:  exit\n"
     ]
    },
    {
     "name": "stdout",
     "output_type": "stream",
     "text": [
      "Bye!\n"
     ]
    }
   ],
   "source": [
    "### CODE HERE ###\n",
    "import random\n",
    "\n",
    "def displayMenu():\n",
    "    print(\"The Wizard Inventory Program\")\n",
    "    print(\"\\nCommand MENU\")\n",
    "    print(\"walk - Walk down the path\")\n",
    "    print(\"show - Show all items\")\n",
    "    print(\"drop - Drop an item\")\n",
    "    print(\"exit - Exit the program\")\n",
    "\n",
    "def LoadItems(filename):\n",
    "    try:\n",
    "        with open(filename, 'r') as file:\n",
    "            items = [line.strip() for line in file]\n",
    "        return items\n",
    "    except FileNotFoundError:\n",
    "        print(f\"Error: Could not find {filename}\")\n",
    "        return []\n",
    "\n",
    "def _save(inventory, filename):\n",
    "    with open(filename, 'w') as file:\n",
    "        for item in inventory:\n",
    "            file.write(item + '\\n')\n",
    "\n",
    "def _walk(all_items, inventory):\n",
    "    if len(inventory) >= 4: # check\n",
    "        print(\"You can't carry any more items. Drop something first.\")\n",
    "        return\n",
    "    \n",
    "    item = random.choice(all_items)\n",
    "    print(f\"While walking down a path, you see {item}.\")\n",
    "    grab = input(\"Do you want to grab it? (y/n): \").lower()\n",
    "    \n",
    "    if grab == 'y':\n",
    "        inventory.append(item)\n",
    "        _save(inventory, \"wizard_inventory.txt\")\n",
    "        print(f\"You picked up {item}.\")\n",
    "\n",
    "def _show(inventory):\n",
    "    if not inventory:\n",
    "        print(\"You're not carrying any items.\")\n",
    "    else:\n",
    "        for i, item in enumerate(inventory, 1):\n",
    "            print(f\"{i}.\\t{item}\")\n",
    "\n",
    "def _drop(inventory):\n",
    "    if not inventory:\n",
    "        print(\"You're not carrying any items to drop.\")\n",
    "        return\n",
    "    \n",
    "    _show(inventory)\n",
    "    try:\n",
    "        num = int(input(\"Number: \"))\n",
    "        if 1 <= num <= len(inventory):\n",
    "            dropped_item = inventory.pop(num - 1)\n",
    "            _save(inventory, \"wizard_inventory.txt\")\n",
    "            print(f\"You dropped {dropped_item}.\")\n",
    "        else:\n",
    "            print(\"Invalid item number.\")\n",
    "    except ValueError:\n",
    "        print(\"Invalid input. Please enter a number.\")\n",
    "\n",
    "def main():\n",
    "    all_items = LoadItems(\"wizard_all_items.txt\")\n",
    "    if not all_items:\n",
    "        return\n",
    "    inventory = LoadItems(\"wizard_inventory.txt\")\n",
    "    displayMenu()\n",
    "    while True:\n",
    "\n",
    "        command = input(\"\\nCommand: \").lower()\n",
    "        \n",
    "        if command == \"walk\":\n",
    "            _walk(all_items, inventory)\n",
    "        elif command == \"show\":\n",
    "            _show(inventory)\n",
    "        elif command == \"drop\":\n",
    "            _drop(inventory)\n",
    "        elif command == \"exit\":\n",
    "            print(\"Bye!\")\n",
    "            break\n",
    "        else:\n",
    "            print(\"Invalid command. Please try again.\")\n",
    "\n",
    "if __name__ == \"__main__\":\n",
    "    main()"
   ]
  },
  {
   "cell_type": "markdown",
   "metadata": {},
   "source": [
    "## 7.3 Monthly Sales\n",
    "Create a program that reads the sales for 12 months from a file and calculates the total yearly sales as well as the average monthly sales. In addition, this program should let the user edit the sales for any month.\n",
    "\n",
    "### Console:\n",
    "```powershell\n",
    "Monthly Sales program\n",
    "\n",
    "COMMAND MENU\n",
    "monthly - View monthly sales \n",
    "yearly\t- View yearly sumary \n",
    "edit\t- Edit sales for a month \n",
    "exit\t- Exit program\n",
    "\n",
    "Command: monthly \n",
    "Jan - 14317\n",
    "Feb - 3903\n",
    "Mar - 1073\n",
    "Apr - 3463\n",
    "May - 2429\n",
    "Jun - 4324\n",
    "Jul - 9762\n",
    "Aug - 15578\n",
    "Sep - 2437\n",
    "Oct - 6735\n",
    "Nov - 88\n",
    "Dec - 2497\n",
    "\n",
    "Command: yearly\n",
    "Yearly total:\t66606\n",
    "Monthly average:\t5550.5\n",
    "\n",
    "Command: edit\n",
    "Three-letter Month: Nov Sales Amount: 8854\n",
    "Sales amount for Nov was modified.\n",
    "\n",
    "Command: exit Bye!\n",
    "```\n",
    "\n",
    "### Specifications:\n",
    "- Use the attached text file named CSV file named `monthly_sales.csv` that contains the month and sales data shown above.\n",
    "- For the edit command, display an error message if the user doesn’t enter a valid three-letter abbreviation for the month.\n",
    "- When the user edits the sales amount for a month, the data should be saved to the CSV file immediately. That way, no data is lost, even if the program crashes later.\n",
    "- Round the results of the monthly average to a maximum of 2 decimal digits."
   ]
  },
  {
   "cell_type": "code",
   "execution_count": 4,
   "metadata": {},
   "outputs": [
    {
     "name": "stdout",
     "output_type": "stream",
     "text": [
      "Monthly Sales program\n",
      "\n",
      "COMMAND MENU\n",
      "monthly - View monthly sales\n",
      "yearly - View yearly summary\n",
      "edit - Edit sales for a month\n",
      "exit - Exit program\n"
     ]
    },
    {
     "name": "stdin",
     "output_type": "stream",
     "text": [
      "\n",
      "Command:  monthly\n"
     ]
    },
    {
     "name": "stdout",
     "output_type": "stream",
     "text": [
      "Jan - 14317\n",
      "Feb - 3903\n",
      "Mar - 1073\n",
      "Apr - 3463\n",
      "May - 2429\n",
      "Jun - 4324\n",
      "Jul - 9762\n",
      "Aug - 15578\n",
      "Sep - 2437\n",
      "Oct - 6735\n",
      "Nov - 88\n",
      "Dec - 2497\n"
     ]
    },
    {
     "name": "stdin",
     "output_type": "stream",
     "text": [
      "\n",
      "Command:  yearly\n"
     ]
    },
    {
     "name": "stdout",
     "output_type": "stream",
     "text": [
      "Yearly total:\t66606\n",
      "Monthly average:\t5550.5\n"
     ]
    },
    {
     "name": "stdin",
     "output_type": "stream",
     "text": [
      "\n",
      "Command:  edit\n",
      "Three-letter Month:  jan\n",
      "Sales Amount:  305\n"
     ]
    },
    {
     "name": "stdout",
     "output_type": "stream",
     "text": [
      "Sales amount for Jan was modified.\n"
     ]
    },
    {
     "name": "stdin",
     "output_type": "stream",
     "text": [
      "\n",
      "Command:  exit\n"
     ]
    },
    {
     "name": "stdout",
     "output_type": "stream",
     "text": [
      "Bye!\n"
     ]
    }
   ],
   "source": [
    "### CODE HERE ###\n",
    "import csv\n",
    "\n",
    "def load_sales_data():\n",
    "    sales_data = []\n",
    "    try:\n",
    "        with open(\"monthly_sales.csv\", mode='r') as file:\n",
    "            reader = csv.reader(file)\n",
    "            for row in reader:\n",
    "                if len(row) == 2:\n",
    "                    sales_data.append((row[0], int(row[1])))\n",
    "        return sales_data\n",
    "    except FileNotFoundError:\n",
    "        print(\"Error: monthly_sales.csv file not found!\")\n",
    "        return None\n",
    "    except ValueError:\n",
    "        print(\"Error: Invalid data in monthly_sales.csv!\")\n",
    "        return None\n",
    "\n",
    "def saveSalesData(sales_data):\n",
    "    with open(\"monthly_sales.csv\", mode='w', newline='') as file:\n",
    "        writer = csv.writer(file)\n",
    "        writer.writerows(sales_data)\n",
    "\n",
    "def _monthly(sales_data):\n",
    "    for month, sales in sales_data:\n",
    "        print(f\"{month} - {sales}\")\n",
    "\n",
    "def _yearly(sales_data):\n",
    "    total = sum(sales for _, sales in sales_data)\n",
    "    average = total / len(sales_data)\n",
    "    print(f\"Yearly total:\\t{total}\")\n",
    "    print(f\"Monthly average:\\t{round(average, 2)}\") # round here\n",
    "\n",
    "def _edit(sales_data):\n",
    "    months = [month for month, _ in sales_data]\n",
    "    \n",
    "    month_abbr = input(\"Three-letter Month: \").capitalize()\n",
    "    if month_abbr not in months:\n",
    "        print(\"Error: Invalid three-letter month abbreviation.\")\n",
    "        return\n",
    "    \n",
    "    try:\n",
    "        new_sales = int(input(\"Sales Amount: \"))\n",
    "    except ValueError:\n",
    "        print(\"Error: Invalid sales amount. Please enter a number.\")\n",
    "        return\n",
    "\n",
    "    for i, (month, sales) in enumerate(sales_data):\n",
    "        if month == month_abbr:\n",
    "            sales_data[i] = (month, new_sales)\n",
    "            break\n",
    "\n",
    "    saveSalesData(sales_data)\n",
    "    print(f\"Sales amount for {month_abbr} was modified.\")\n",
    "\n",
    "def main():\n",
    "    print(\"Monthly Sales Program\\n\")\n",
    "    \n",
    "    sales_data = load_sales_data()\n",
    "    if not sales_data:\n",
    "        return\n",
    "    \n",
    "    print(\"COMMAND MENU\")\n",
    "    print(\"monthly - View monthly sales\")\n",
    "    print(\"yearly - View yearly summary\")\n",
    "    print(\"edit - Edit sales for a month\")\n",
    "    print(\"exit - Exit program\")\n",
    "    \n",
    "    while True:\n",
    "        command = input(\"\\nCommand: \").lower()\n",
    "        \n",
    "        if command == \"monthly\":\n",
    "            _monthly(sales_data)\n",
    "        elif command == \"yearly\":\n",
    "            _yearly(sales_data)\n",
    "        elif command == \"edit\":\n",
    "            _edit(sales_data)\n",
    "        elif command == \"exit\":\n",
    "            print(\"Bye!\")\n",
    "            break\n",
    "        else:\n",
    "            print(\"Invalid command. Please try again.\")\n",
    "\n",
    "if __name__ == \"__main__\":\n",
    "    main()"
   ]
  },
  {
   "cell_type": "code",
   "execution_count": null,
   "metadata": {},
   "outputs": [],
   "source": []
  }
 ],
 "metadata": {
  "kernelspec": {
   "display_name": "Python 3 (ipykernel)",
   "language": "python",
   "name": "python3"
  },
  "language_info": {
   "codemirror_mode": {
    "name": "ipython",
    "version": 3
   },
   "file_extension": ".py",
   "mimetype": "text/x-python",
   "name": "python",
   "nbconvert_exporter": "python",
   "pygments_lexer": "ipython3",
   "version": "3.12.7"
  }
 },
 "nbformat": 4,
 "nbformat_minor": 4
}
