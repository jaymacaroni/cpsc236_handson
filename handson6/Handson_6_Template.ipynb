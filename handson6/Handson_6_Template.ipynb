{
 "cells": [
  {
   "cell_type": "markdown",
   "metadata": {},
   "source": [
    "# Dictionaries\n",
    "\n",
    "To submit this assignment in D2l, post the link to your notebook file on your GitHub account."
   ]
  },
  {
   "cell_type": "markdown",
   "metadata": {},
   "source": [
    "## 12.1 Champion Counter\n",
    "Create a program that reads a text file that contains a list of FIFA World Cup champions and determines the country that has won the most championships.\n",
    "\n",
    "### Console:\n",
    "```powershell\n",
    "Country\t        Wins\tYears\t\n",
    "=======\t        ====\t=====\t\n",
    "Argentina       2       1978, 1986\n",
    "Brazil\t        5       1958, 1962, 1970, 1994, 2002\n",
    "England\t        1       1966\t\t\n",
    "France\t        1       1998\t\t\n",
    "Germany\t        4       1954, 1974, 1990, 2014\n",
    "Italy\t        4       1934, 1938, 1982, 2006\n",
    "Spain\t        1       2010\n",
    "Uruguay\t        2       1930, 1950\n",
    "```\n",
    "\n",
    "### Specifications:\n",
    "- Use the attached text file named `world_cup_champions.txt` that contains data like this: \n",
    "```powershell\n",
    "Year,Country,Coach,Captain \n",
    "1930,Uruguay,Alberto Suppici,José Nasazzi \n",
    "1934,Italy,Vittorio Pozzo,Gianpiero Combi \n",
    "1938,Italy,Vittorio Pozzo,Giuseppe Meazza\n",
    "...\n",
    "```\n",
    "- When the program starts, it should read the text file and use a dictionary to store the required data using the name of each country that has won the World Cup as the key.\n",
    "- The program should compile the data shown above and display the countries alphabetically.\n",
    "\n"
   ]
  },
  {
   "cell_type": "code",
   "execution_count": 1,
   "metadata": {},
   "outputs": [
    {
     "name": "stdout",
     "output_type": "stream",
     "text": [
      "Country      Wins   Years               \n",
      "==============================\n",
      "Argentina    2      1978, 1986\n",
      "Brazil       5      1958, 1962, 1970, 1994, 2002\n",
      "England      1      1966\n",
      "France       1      1998\n",
      "Germany      4      1954, 1974, 1990, 2014\n",
      "Italy        4      1934, 1938, 1982, 2006\n",
      "Spain        1      2010\n",
      "Uruguay      2      1930, 1950\n"
     ]
    }
   ],
   "source": [
    "country_data = {}\n",
    "\n",
    "with open('world_cup_champions.txt', 'r') as file:\n",
    "    for line in file:\n",
    "        if not line.strip():\n",
    "            continue\n",
    "            \n",
    "        parts = [part.strip() for part in line.split(',')]\n",
    "        \n",
    "        if parts[0] == 'Year':\n",
    "            continue\n",
    "            \n",
    "        year = parts[0]\n",
    "        country = parts[1]\n",
    "        \n",
    "        if country in country_data:\n",
    "            country_data[country]['wins'] += 1\n",
    "            country_data[country]['years'].append(year)\n",
    "        else:\n",
    "            country_data[country] = {\n",
    "                'wins': 1,\n",
    "                'years': [year]\n",
    "            }\n",
    "\n",
    "sorted_countries = sorted(country_data.keys())\n",
    "\n",
    "print(f\"{'Country':<12} {'Wins':<6} {'Years':<20}\")\n",
    "print('=' * 30)\n",
    "\n",
    "for country in sorted_countries:\n",
    "    years = ', '.join(country_data[country]['years'])\n",
    "    print(f\"{country:<12} {country_data[country]['wins']:<6} {years}\")"
   ]
  },
  {
   "cell_type": "markdown",
   "metadata": {},
   "source": [
    "## 12.2 Monthly Sales\n",
    "Create a program that allows you to view and edit the sales amounts for each month of the current year.\n",
    "\n",
    "### Console:\n",
    "```powershell\n",
    "Monthly Sales program\n",
    "\n",
    "cmd MENU\n",
    "view\t- View sales for specified month \n",
    "edit\t- Edit sales for specified month \n",
    "totals - View sales summary for year \n",
    "exit\t- Exit program\n",
    "\n",
    "cmd: view\n",
    "Three-letter Month: jan\n",
    "Sales amount for Jan is 14,317.00.\n",
    "\n",
    "cmd: edit\n",
    "Three-letter Month: jan \n",
    "Sales Amount: 15293\n",
    "Sales amount for Jan is 15,293.00.\n",
    "\n",
    "cmd: totals\n",
    "Yearly total: 67,855.00\n",
    "Monthly average: 5,654.58\n",
    "\n",
    "cmd: view\n",
    "Three-letter Month: july \n",
    "Invalid three-letter month.\n",
    "\n",
    "cmd: exit Bye!\n",
    "```\n",
    "\n",
    "### Specifications:\n",
    "- Use the attached text file named `monthly_sales.txt` that consists of rows that contain three-letter abbreviations for the month and the monthly sales.\n",
    "- The program should read the file and store the sales data for each month in a dictionary with the month abbreviation as the key for each item.\n",
    "- Whenever the sales data is edited, the program should write the changed data to the text file.\n",
    "\n",
    "\n"
   ]
  },
  {
   "cell_type": "code",
   "execution_count": 3,
   "metadata": {},
   "outputs": [
    {
     "name": "stdout",
     "output_type": "stream",
     "text": [
      "Monthly Sales Program\n",
      "\n",
      "COMMAND MENU\n",
      "view     - View sales for specified month\n",
      "edit     - Edit sales for specified month\n",
      "totals   - View sales summary for year\n",
      "exit     - Exit program\n"
     ]
    },
    {
     "name": "stdin",
     "output_type": "stream",
     "text": [
      "\n",
      "COMMAND:  view\n",
      "Three-letter Month:  Jan\n"
     ]
    },
    {
     "name": "stdout",
     "output_type": "stream",
     "text": [
      "Sales amount for Jan is 2,022.00.\n"
     ]
    },
    {
     "name": "stdin",
     "output_type": "stream",
     "text": [
      "\n",
      "COMMAND:  edit\n",
      "Three-letter Month:  Jan\n",
      "Sales Amount:  2050222\n"
     ]
    },
    {
     "name": "stdout",
     "output_type": "stream",
     "text": [
      "Sales amount for Jan is 2,050,222.00.\n"
     ]
    },
    {
     "name": "stdin",
     "output_type": "stream",
     "text": [
      "\n",
      "COMMAND:  totals\n"
     ]
    },
    {
     "name": "stdout",
     "output_type": "stream",
     "text": [
      "Yearly total: 2,102,784.00\n",
      "Monthly average: 175,232.00\n"
     ]
    },
    {
     "name": "stdin",
     "output_type": "stream",
     "text": [
      "\n",
      "COMMAND:  exit\n"
     ]
    },
    {
     "name": "stdout",
     "output_type": "stream",
     "text": [
      "Bye!\n"
     ]
    }
   ],
   "source": [
    "def LoadFile(filename):\n",
    "    try:\n",
    "        with open(filename, 'r') as file:\n",
    "            sales_data = {}\n",
    "            for line in file:\n",
    "                month, amount = line.strip().split('\\t')\n",
    "                sales_data[month.lower()] = float(amount)\n",
    "        return sales_data\n",
    "    except FileNotFoundError:\n",
    "        print(f\"Error: Could not find {filename}\")\n",
    "        return {}\n",
    "\n",
    "def SaveFile(filename, sales_data):\n",
    "    with open(filename, 'w') as file:\n",
    "        for month in ['jan', 'feb', 'mar', 'apr', 'may', 'jun', \n",
    "                     'jul', 'aug', 'sep', 'oct', 'nov', 'dec']:\n",
    "            if month in sales_data:\n",
    "                file.write(f\"{month}\\t{sales_data[month]:.2f}\\n\")\n",
    "\n",
    "def _view(sales_data):\n",
    "    month = input(\"Three-letter Month: \").lower()[:3]\n",
    "    if month in sales_data:\n",
    "        print(f\"Sales amount for {month.capitalize()} is {sales_data[month]:,.2f}.\")\n",
    "    else:\n",
    "        print(\"Invalid three-letter month.\")\n",
    "\n",
    "def _edit(sales_data):\n",
    "    month = input(\"Three-letter Month: \").lower()[:3]\n",
    "    if month not in sales_data:\n",
    "        print(\"Invalid three-letter month.\")\n",
    "        return\n",
    "    \n",
    "    try:\n",
    "        amount = float(input(\"Sales Amount: \"))\n",
    "        sales_data[month] = amount\n",
    "        SaveFile(\"monthly_sales.txt\", sales_data)\n",
    "        print(f\"Sales amount for {month.capitalize()} is {amount:,.2f}.\")\n",
    "    except ValueError:\n",
    "        print(\"Invalid amount. Please enter a number.\")\n",
    "\n",
    "def _totals(sales_data):\n",
    "    total = sum(sales_data.values())\n",
    "    average = total / len(sales_data)\n",
    "    print(f\"Yearly total: {total:,.2f}\")\n",
    "    print(f\"Monthly average: {average:,.2f}\")\n",
    "\n",
    "def main():\n",
    "    print(\"Monthly Sales Program\")\n",
    "    print(\"\\nCOMMAND MENU\")\n",
    "    print(\"view     - View sales for specified month\")\n",
    "    print(\"edit     - Edit sales for specified month\")\n",
    "    print(\"totals   - View sales summary for year\")\n",
    "    print(\"exit     - Exit program\")\n",
    "\n",
    "    sales_data = LoadFile(\"monthly_sales.txt\")\n",
    "\n",
    "    while True:\n",
    "        cmd = input(\"\\nCOMMAND: \").lower()\n",
    "\n",
    "        if cmd == \"view\":\n",
    "            _view(sales_data)\n",
    "        elif cmd == \"edit\":\n",
    "            _edit(sales_data)\n",
    "        elif cmd == \"totals\":\n",
    "            _totals(sales_data)\n",
    "        elif cmd == \"exit\":\n",
    "            print(\"Bye!\")\n",
    "            break\n",
    "        else:\n",
    "            print(\"Invalid COMMAND. Please try again.\")\n",
    "\n",
    "if __name__ == \"__main__\":\n",
    "    main()"
   ]
  },
  {
   "cell_type": "code",
   "execution_count": null,
   "metadata": {},
   "outputs": [],
   "source": []
  }
 ],
 "metadata": {
  "kernelspec": {
   "display_name": "Python 3 (ipykernel)",
   "language": "python",
   "name": "python3"
  },
  "language_info": {
   "codemirror_mode": {
    "name": "ipython",
    "version": 3
   },
   "file_extension": ".py",
   "mimetype": "text/x-python",
   "name": "python",
   "nbconvert_exporter": "python",
   "pygments_lexer": "ipython3",
   "version": "3.12.7"
  }
 },
 "nbformat": 4,
 "nbformat_minor": 4
}
